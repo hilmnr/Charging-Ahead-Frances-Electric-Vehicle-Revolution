{
 "cells": [
  {
   "cell_type": "code",
   "execution_count": 105,
   "id": "a7649760-63b4-438c-a397-32a7c7bd6e48",
   "metadata": {
    "tags": []
   },
   "outputs": [],
   "source": [
    "import pandas as pd"
   ]
  },
  {
   "cell_type": "code",
   "execution_count": 167,
   "id": "e1069325-99d1-493d-9f65-c7dab60bad67",
   "metadata": {
    "tags": []
   },
   "outputs": [],
   "source": [
    "df = pd.read_csv('bornes_de_recharge.csv')"
   ]
  },
  {
   "cell_type": "code",
   "execution_count": 168,
   "id": "0f9eede3-e010-44cd-ba9a-250a43bcd150",
   "metadata": {
    "tags": []
   },
   "outputs": [
    {
     "data": {
      "text/plain": [
       "aménageur                     object\n",
       "opérateur                     object\n",
       "id_station                    object\n",
       "nom_station                   object\n",
       "adresse                       object\n",
       "code_insee                    object\n",
       "nombre_points_de_charge      float64\n",
       "puissance                    float64\n",
       "type_de_prise                 object\n",
       "condition_accès               object\n",
       "accessibilité                 object\n",
       "observations                  object\n",
       "date_mise_a_jour              object\n",
       "source                        object\n",
       "coordonnees                   object\n",
       "code_officiel_région         float64\n",
       "code_officiel_département     object\n",
       "code_epci                    float64\n",
       "nom_de_epci                   object\n",
       "commune                       object\n",
       "nom_région                    object\n",
       "nom_département               object\n",
       "dtype: object"
      ]
     },
     "execution_count": 168,
     "metadata": {},
     "output_type": "execute_result"
    }
   ],
   "source": [
    "df.dtypes"
   ]
  },
  {
   "cell_type": "code",
   "execution_count": 175,
   "id": "9f850ab3-d949-42e4-9028-6654a1b7712b",
   "metadata": {
    "tags": []
   },
   "outputs": [],
   "source": [
    "rename_columns = {\n",
    "    'aménageur':'amenageur',\n",
    "    'opérateur': 'operateur',\n",
    "    'condition_accès':'condition_acces',\n",
    "    'accessibilité': 'accessibilite',\n",
    "    'code_officiel_région':'code_officiel_region',\n",
    "    'code_officiel_département':'code_officiel_departement',\n",
    "    'nom_région':'nom_region',\n",
    "    'nom_département':'nom_departement',\n",
    "    'commune':'nom_commune'\n",
    "}\n",
    "\n",
    "df.rename(columns=rename_columns, inplace=True)"
   ]
  },
  {
   "cell_type": "code",
   "execution_count": 176,
   "id": "0a0bb5c3-a355-4aea-aa7c-68719a72be26",
   "metadata": {
    "tags": []
   },
   "outputs": [
    {
     "data": {
      "text/plain": [
       "amenageur                     object\n",
       "operateur                     object\n",
       "id_station                    object\n",
       "nom_station                   object\n",
       "adresse                       object\n",
       "code_insee                    object\n",
       "nombre_points_de_charge        int64\n",
       "puissance                    float64\n",
       "type_de_prise                 object\n",
       "condition_acces               object\n",
       "accessibilite                 object\n",
       "observations                  object\n",
       "date_mise_a_jour              object\n",
       "source                        object\n",
       "coordonnees                   object\n",
       "code_officiel_region           int64\n",
       "code_officiel_departement      int64\n",
       "code_epci                      int64\n",
       "nom_de_epci                   object\n",
       "nom_commune                   object\n",
       "nom_region                    object\n",
       "nom_departement               object\n",
       "dtype: object"
      ]
     },
     "execution_count": 176,
     "metadata": {},
     "output_type": "execute_result"
    }
   ],
   "source": [
    "df.dtypes"
   ]
  },
  {
   "cell_type": "code",
   "execution_count": 177,
   "id": "b3b68f6b-fbc2-43bd-a7f8-4b3b9a7a2c69",
   "metadata": {
    "tags": []
   },
   "outputs": [],
   "source": [
    "import pandas as pd\n",
    "import numpy as np\n",
    "\n",
    "df['nombre_points_de_charge'] = pd.to_numeric(df['nombre_points_de_charge'].replace('nan', np.nan), errors='coerce').fillna(0).astype(int)\n",
    "df['code_officiel_region'] = pd.to_numeric(df['code_officiel_region'].replace('nan', np.nan), errors='coerce').fillna(0).astype(int)\n",
    "df['code_officiel_departement'] = pd.to_numeric(df['code_officiel_departement'].replace('nan', np.nan), errors='coerce').fillna(0).astype(int)\n",
    "df['code_epci'] = pd.to_numeric(df['code_epci'].replace('nan', np.nan), errors='coerce').fillna(0).astype(int)"
   ]
  },
  {
   "cell_type": "code",
   "execution_count": 180,
   "id": "d518ecc8-a734-4767-a65c-f5e3aba34062",
   "metadata": {
    "tags": []
   },
   "outputs": [],
   "source": [
    "df['observations'] = df['observations'].fillna(\"NA\")\n",
    "df['nom_de_epci'] = df['nom_de_epci'].fillna(\"NA\")\n",
    "df['nom_commune'] = df['nom_commune'].fillna(\"NA\")\n",
    "df['nom_region'] = df['nom_region'].fillna(\"NA\")\n",
    "df['nom_departement'] = df['nom_departement'].fillna(\"NA\")"
   ]
  },
  {
   "cell_type": "code",
   "execution_count": 181,
   "id": "b999b106-8566-4d8b-a81d-ac1c3ced73ca",
   "metadata": {
    "tags": []
   },
   "outputs": [
    {
     "data": {
      "text/plain": [
       "amenageur                       6\n",
       "operateur                       9\n",
       "id_station                      0\n",
       "nom_station                    71\n",
       "adresse                        63\n",
       "code_insee                   1483\n",
       "nombre_points_de_charge         0\n",
       "puissance                     137\n",
       "type_de_prise                   4\n",
       "condition_acces                 8\n",
       "accessibilite                  92\n",
       "observations                    0\n",
       "date_mise_a_jour                0\n",
       "source                          0\n",
       "coordonnees                    37\n",
       "code_officiel_region            0\n",
       "code_officiel_departement       0\n",
       "code_epci                       0\n",
       "nom_de_epci                     0\n",
       "nom_commune                     0\n",
       "nom_region                      0\n",
       "nom_departement                 0\n",
       "dtype: int64"
      ]
     },
     "execution_count": 181,
     "metadata": {},
     "output_type": "execute_result"
    }
   ],
   "source": [
    "df.isna().sum()"
   ]
  },
  {
   "cell_type": "code",
   "execution_count": 182,
   "id": "ac05a2f3-afde-4fea-93ee-bc3c2de0bf99",
   "metadata": {
    "tags": []
   },
   "outputs": [
    {
     "data": {
      "text/plain": [
       "(18142, 22)"
      ]
     },
     "execution_count": 182,
     "metadata": {},
     "output_type": "execute_result"
    }
   ],
   "source": [
    "df.shape"
   ]
  },
  {
   "cell_type": "code",
   "execution_count": 183,
   "id": "473c315b-980a-447d-affb-aa450a56ea2a",
   "metadata": {},
   "outputs": [
    {
     "data": {
      "text/plain": [
       "amenageur                                                 BYMYCAR siège social\n",
       "operateur                                                          ChargePoint\n",
       "id_station                                                       FRCPIE6495655\n",
       "nom_station                                                 GVA / CAVAILLON AC\n",
       "adresse                                620 Avenue Prosper Mérimée 84300 France\n",
       "code_insee                                                               84035\n",
       "nombre_points_de_charge                                                      1\n",
       "puissance                                                                 22.0\n",
       "type_de_prise                                                              T2S\n",
       "condition_acces                                                         Payant\n",
       "accessibilite                               Lun-Vend 7AM à 8PM\\nSam 7AM à 12PM\n",
       "observations                                                                 -\n",
       "date_mise_a_jour                                                    2021-01-14\n",
       "source                       https://www.data.gouv.fr/fr/datasets/bornes-de...\n",
       "coordonnees                               43.85280423435997, 5.027869013727857\n",
       "code_officiel_region                                                        93\n",
       "code_officiel_departement                                                   84\n",
       "code_epci                                                            200040442\n",
       "nom_de_epci                                       CA Luberon Monts de Vaucluse\n",
       "nom_commune                                                          Cavaillon\n",
       "nom_region                                          PROVENCE ALPES COTE D AZUR\n",
       "nom_departement                                                       VAUCLUSE\n",
       "Name: 10655, dtype: object"
      ]
     },
     "execution_count": 183,
     "metadata": {},
     "output_type": "execute_result"
    }
   ],
   "source": [
    "df.iloc[10655]"
   ]
  },
  {
   "cell_type": "code",
   "execution_count": 185,
   "id": "c5c7588b-c16d-4aab-870d-468663cf7874",
   "metadata": {
    "tags": []
   },
   "outputs": [],
   "source": [
    "def replace_newlines_in_columns(df, column_names):\n",
    "    for column_name in column_names:\n",
    "        if column_name in df.columns:\n",
    "            df[column_name] = df[column_name].apply(lambda x: x.replace('\\n', ' ') if isinstance(x, str) else x)\n",
    "        else:\n",
    "            raise ValueError(f\"The column {column_name} does not exist in the DataFrame.\")\n",
    "\n",
    "replace_newlines_in_columns(df, ['accessibilite', 'observations','adresse'])"
   ]
  },
  {
   "cell_type": "code",
   "execution_count": 130,
   "id": "2126b0eb-a584-4609-8619-ee62b0900716",
   "metadata": {
    "tags": []
   },
   "outputs": [
    {
     "data": {
      "text/plain": [
       "aménageur                                                 BYMYCAR siège social\n",
       "opérateur                                                          ChargePoint\n",
       "id_station                                                       FRCPIE6495655\n",
       "nom_station                                                 GVA / CAVAILLON AC\n",
       "adresse                                620 Avenue Prosper Mérimée 84300 France\n",
       "code_insee                                                               84035\n",
       "nombre_points_de_charge                                                      1\n",
       "puissance                                                                 22.0\n",
       "type_de_prise                                                              T2S\n",
       "condition_accès                                                         Payant\n",
       "accessibilité                                Lun-Vend 7AM à 8PM Sam 7AM à 12PM\n",
       "observations                                                                 -\n",
       "date_mise_a_jour                                                    2021-01-14\n",
       "source                       https://www.data.gouv.fr/fr/datasets/bornes-de...\n",
       "coordonnees                               43.85280423435997, 5.027869013727857\n",
       "code_officiel_région                                                        93\n",
       "code_officiel_département                                                   84\n",
       "code_epci                                                            200040442\n",
       "nom_de_epci                                       CA Luberon Monts de Vaucluse\n",
       "commune                                                              Cavaillon\n",
       "nom_région                                          PROVENCE ALPES COTE D AZUR\n",
       "nom_département                                                       VAUCLUSE\n",
       "Name: 10655, dtype: object"
      ]
     },
     "execution_count": 130,
     "metadata": {},
     "output_type": "execute_result"
    }
   ],
   "source": [
    "df.iloc[10655]"
   ]
  },
  {
   "cell_type": "code",
   "execution_count": 186,
   "id": "b8f5b7d9-44ea-40ff-b6b5-7957e6c410ec",
   "metadata": {
    "tags": []
   },
   "outputs": [
    {
     "data": {
      "text/plain": [
       "Index(['amenageur', 'operateur', 'id_station', 'nom_station', 'adresse',\n",
       "       'code_insee', 'nombre_points_de_charge', 'puissance', 'type_de_prise',\n",
       "       'condition_acces', 'accessibilite', 'observations', 'date_mise_a_jour',\n",
       "       'source', 'coordonnees', 'code_officiel_region',\n",
       "       'code_officiel_departement', 'code_epci', 'nom_de_epci', 'nom_commune',\n",
       "       'nom_region', 'nom_departement'],\n",
       "      dtype='object')"
      ]
     },
     "execution_count": 186,
     "metadata": {},
     "output_type": "execute_result"
    }
   ],
   "source": [
    "df.columns"
   ]
  },
  {
   "cell_type": "code",
   "execution_count": 187,
   "id": "d1e61a3c-264a-4315-ac94-bc36524bc7a1",
   "metadata": {
    "tags": []
   },
   "outputs": [
    {
     "data": {
      "text/plain": [
       "amenageur                     object\n",
       "operateur                     object\n",
       "id_station                    object\n",
       "nom_station                   object\n",
       "adresse                       object\n",
       "code_insee                    object\n",
       "nombre_points_de_charge        int64\n",
       "puissance                    float64\n",
       "type_de_prise                 object\n",
       "condition_acces               object\n",
       "accessibilite                 object\n",
       "observations                  object\n",
       "date_mise_a_jour              object\n",
       "source                        object\n",
       "coordonnees                   object\n",
       "code_officiel_region           int64\n",
       "code_officiel_departement      int64\n",
       "code_epci                      int64\n",
       "nom_de_epci                   object\n",
       "nom_commune                   object\n",
       "nom_region                    object\n",
       "nom_departement               object\n",
       "dtype: object"
      ]
     },
     "execution_count": 187,
     "metadata": {},
     "output_type": "execute_result"
    }
   ],
   "source": [
    "df.dtypes"
   ]
  },
  {
   "cell_type": "code",
   "execution_count": 189,
   "id": "68a7856b-f033-4e7b-b992-9158f1ba9863",
   "metadata": {
    "tags": []
   },
   "outputs": [
    {
     "data": {
      "text/html": [
       "<div>\n",
       "<style scoped>\n",
       "    .dataframe tbody tr th:only-of-type {\n",
       "        vertical-align: middle;\n",
       "    }\n",
       "\n",
       "    .dataframe tbody tr th {\n",
       "        vertical-align: top;\n",
       "    }\n",
       "\n",
       "    .dataframe thead th {\n",
       "        text-align: right;\n",
       "    }\n",
       "</style>\n",
       "<table border=\"1\" class=\"dataframe\">\n",
       "  <thead>\n",
       "    <tr style=\"text-align: right;\">\n",
       "      <th></th>\n",
       "      <th>amenageur</th>\n",
       "      <th>operateur</th>\n",
       "      <th>id_station</th>\n",
       "      <th>nom_station</th>\n",
       "      <th>adresse</th>\n",
       "      <th>code_insee</th>\n",
       "      <th>nombre_points_de_charge</th>\n",
       "      <th>puissance</th>\n",
       "      <th>type_de_prise</th>\n",
       "      <th>condition_acces</th>\n",
       "      <th>...</th>\n",
       "      <th>date_mise_a_jour</th>\n",
       "      <th>source</th>\n",
       "      <th>coordonnees</th>\n",
       "      <th>code_officiel_region</th>\n",
       "      <th>code_officiel_departement</th>\n",
       "      <th>code_epci</th>\n",
       "      <th>nom_de_epci</th>\n",
       "      <th>nom_commune</th>\n",
       "      <th>nom_region</th>\n",
       "      <th>nom_departement</th>\n",
       "    </tr>\n",
       "  </thead>\n",
       "  <tbody>\n",
       "    <tr>\n",
       "      <th>0</th>\n",
       "      <td>CASA</td>\n",
       "      <td>Sodetrel</td>\n",
       "      <td>FRA16PWIIZ5</td>\n",
       "      <td>Vallauris Parking Stade</td>\n",
       "      <td>Avenue Jérome Massier</td>\n",
       "      <td>06155</td>\n",
       "      <td>2</td>\n",
       "      <td>22.0</td>\n",
       "      <td>E/F-T2</td>\n",
       "      <td>payant</td>\n",
       "      <td>...</td>\n",
       "      <td>2018-10-05</td>\n",
       "      <td>https://www.data.gouv.fr/fr/datasets/infrastru...</td>\n",
       "      <td>43.575956, 7.053818</td>\n",
       "      <td>93</td>\n",
       "      <td>6</td>\n",
       "      <td>240600585</td>\n",
       "      <td>CA de Sophia Antipolis</td>\n",
       "      <td>Vallauris</td>\n",
       "      <td>PROVENCE ALPES COTE D AZUR</td>\n",
       "      <td>ALPES MARITIMES</td>\n",
       "    </tr>\n",
       "    <tr>\n",
       "      <th>1</th>\n",
       "      <td>CASA</td>\n",
       "      <td>Sodetrel</td>\n",
       "      <td>FRA16PWIIZ59</td>\n",
       "      <td>Roquefort-les-Pins Parking Intermarché</td>\n",
       "      <td>Chemin de la Basse Ferme</td>\n",
       "      <td>06105</td>\n",
       "      <td>2</td>\n",
       "      <td>22.0</td>\n",
       "      <td>E/F-T2</td>\n",
       "      <td>payant</td>\n",
       "      <td>...</td>\n",
       "      <td>2018-10-05</td>\n",
       "      <td>https://www.data.gouv.fr/fr/datasets/infrastru...</td>\n",
       "      <td>43.667913, 7.043412</td>\n",
       "      <td>93</td>\n",
       "      <td>6</td>\n",
       "      <td>240600585</td>\n",
       "      <td>CA de Sophia Antipolis</td>\n",
       "      <td>Roquefort-les-Pins</td>\n",
       "      <td>PROVENCE ALPES COTE D AZUR</td>\n",
       "      <td>ALPES MARITIMES</td>\n",
       "    </tr>\n",
       "    <tr>\n",
       "      <th>2</th>\n",
       "      <td>CATP Tours</td>\n",
       "      <td>BORNES SOLUTIONS</td>\n",
       "      <td>FRBSPP37000001</td>\n",
       "      <td>Crédit Agricole Touraine Poitou</td>\n",
       "      <td>45 Boulevard Winston Churchill</td>\n",
       "      <td>37261</td>\n",
       "      <td>1</td>\n",
       "      <td>22.0</td>\n",
       "      <td>T2-E/F</td>\n",
       "      <td>Gratuit</td>\n",
       "      <td>...</td>\n",
       "      <td>2020-12-07</td>\n",
       "      <td>https://www.data.gouv.fr/fr/datasets/infrastru...</td>\n",
       "      <td>47.37425458, 0.681704879</td>\n",
       "      <td>24</td>\n",
       "      <td>37</td>\n",
       "      <td>243700754</td>\n",
       "      <td>Tours Métropole Val de Loire</td>\n",
       "      <td>Tours</td>\n",
       "      <td>CENTRE VAL DE LOIRE</td>\n",
       "      <td>INDRE ET LOIRE</td>\n",
       "    </tr>\n",
       "    <tr>\n",
       "      <th>3</th>\n",
       "      <td>CC VITRY CHAMPAGNE ET DER</td>\n",
       "      <td>BOUYGUES ENERGIES ET SERVICES</td>\n",
       "      <td>FRA51P51649004</td>\n",
       "      <td>VITRY LE FRANCOIS - Place De La Halle</td>\n",
       "      <td>Place De La Halle 51300 VITRY LE FRANCOIS</td>\n",
       "      <td>51649</td>\n",
       "      <td>2</td>\n",
       "      <td>22.0</td>\n",
       "      <td>T2-EF</td>\n",
       "      <td>payant</td>\n",
       "      <td>...</td>\n",
       "      <td>2021-09-04</td>\n",
       "      <td>https://www.data.gouv.fr/fr/datasets/infrastru...</td>\n",
       "      <td>48.727635, 4.584531</td>\n",
       "      <td>44</td>\n",
       "      <td>51</td>\n",
       "      <td>200034718</td>\n",
       "      <td>CC de Vitry,Champagne et Der</td>\n",
       "      <td>Vitry-le-François</td>\n",
       "      <td>GRAND EST</td>\n",
       "      <td>MARNE</td>\n",
       "    </tr>\n",
       "    <tr>\n",
       "      <th>4</th>\n",
       "      <td>CCPA</td>\n",
       "      <td>BOUYGUES ENERGIES ET SERVICES</td>\n",
       "      <td>FRA15P01244001</td>\n",
       "      <td>MEXIMIEUX - Rue Des Stades</td>\n",
       "      <td>Rue des stades 01800 MEXIMIEUX</td>\n",
       "      <td>01244</td>\n",
       "      <td>4</td>\n",
       "      <td>22.0</td>\n",
       "      <td>T2-EF</td>\n",
       "      <td>payant</td>\n",
       "      <td>...</td>\n",
       "      <td>2021-09-04</td>\n",
       "      <td>https://www.data.gouv.fr/fr/datasets/infrastru...</td>\n",
       "      <td>45.900445, 5.192075</td>\n",
       "      <td>84</td>\n",
       "      <td>1</td>\n",
       "      <td>240100883</td>\n",
       "      <td>CC de la Plaine de l'Ain</td>\n",
       "      <td>Meximieux</td>\n",
       "      <td>AUVERGNE RHONE ALPES</td>\n",
       "      <td>AIN</td>\n",
       "    </tr>\n",
       "    <tr>\n",
       "      <th>5</th>\n",
       "      <td>CCVBA</td>\n",
       "      <td>BOUYGUES ENERGIES ET SERVICES</td>\n",
       "      <td>FRABAP13034001</td>\n",
       "      <td>EYGALIERES - Parking Avenue Leon Blum</td>\n",
       "      <td>Parking Avenue Leon Blum 13810 EYGALIERES</td>\n",
       "      <td>13034</td>\n",
       "      <td>2</td>\n",
       "      <td>22.0</td>\n",
       "      <td>T2-EF</td>\n",
       "      <td>payant</td>\n",
       "      <td>...</td>\n",
       "      <td>2021-09-04</td>\n",
       "      <td>https://www.data.gouv.fr/fr/datasets/infrastru...</td>\n",
       "      <td>43.761237, 4.94716</td>\n",
       "      <td>93</td>\n",
       "      <td>13</td>\n",
       "      <td>241300375</td>\n",
       "      <td>CC Vallée des Baux-Alpilles (CC VBA)</td>\n",
       "      <td>Eygalières</td>\n",
       "      <td>PROVENCE ALPES COTE D AZUR</td>\n",
       "      <td>BOUCHES DU RHONE</td>\n",
       "    </tr>\n",
       "    <tr>\n",
       "      <th>6</th>\n",
       "      <td>CEETRUS Roncq3 Pizza Paï</td>\n",
       "      <td>DRIVECO</td>\n",
       "      <td>FRSSDPCEETRUS596564</td>\n",
       "      <td>CEETRUS Roncq3 Pizza Paï</td>\n",
       "      <td>Rue du Ventoux 59650 Villeneuve-d'Ascq</td>\n",
       "      <td>59009</td>\n",
       "      <td>4</td>\n",
       "      <td>22.0</td>\n",
       "      <td>T2</td>\n",
       "      <td>Gratuit</td>\n",
       "      <td>...</td>\n",
       "      <td>2021-03-03</td>\n",
       "      <td>https://www.data.gouv.fr/fr/datasets/liste-des...</td>\n",
       "      <td>50.618301, 3.12961</td>\n",
       "      <td>32</td>\n",
       "      <td>59</td>\n",
       "      <td>200093201</td>\n",
       "      <td>Métropole Européenne de Lille</td>\n",
       "      <td>Villeneuve-d'Ascq</td>\n",
       "      <td>HAUTS DE FRANCE</td>\n",
       "      <td>NORD</td>\n",
       "    </tr>\n",
       "    <tr>\n",
       "      <th>7</th>\n",
       "      <td>CHAUSSON MATERIAUX</td>\n",
       "      <td>BOUYGUES ENERGIES ET SERVICES</td>\n",
       "      <td>FRG52P93005001</td>\n",
       "      <td>AULNAY SOUS BOIS - RUE HENRI BECQUEREL</td>\n",
       "      <td>RUE HENRI BECQUEREL 93600 AULNAY SOUS BOIS</td>\n",
       "      <td>93005</td>\n",
       "      <td>2</td>\n",
       "      <td>22.0</td>\n",
       "      <td>EF-T2</td>\n",
       "      <td>payant</td>\n",
       "      <td>...</td>\n",
       "      <td>2021-09-04</td>\n",
       "      <td>https://www.data.gouv.fr/fr/datasets/infrastru...</td>\n",
       "      <td>48.947414, 2.48</td>\n",
       "      <td>11</td>\n",
       "      <td>93</td>\n",
       "      <td>200054781</td>\n",
       "      <td>Métropole du Grand Paris</td>\n",
       "      <td>Aulnay-sous-Bois</td>\n",
       "      <td>ILE DE FRANCE</td>\n",
       "      <td>SEINE SAINT DENIS</td>\n",
       "    </tr>\n",
       "    <tr>\n",
       "      <th>8</th>\n",
       "      <td>CHAUSSON MATERIAUX</td>\n",
       "      <td>BOUYGUES ENERGIES ET SERVICES</td>\n",
       "      <td>FRG52P85191001</td>\n",
       "      <td>LA ROCHE SUR YON - Rue Pierre Gilles De Gennes</td>\n",
       "      <td>Rue Pierre Gilles De Gennes 85000 LA ROCHE SUR...</td>\n",
       "      <td>85191</td>\n",
       "      <td>2</td>\n",
       "      <td>22.0</td>\n",
       "      <td>EF-T2</td>\n",
       "      <td>payant</td>\n",
       "      <td>...</td>\n",
       "      <td>2021-09-04</td>\n",
       "      <td>https://www.data.gouv.fr/fr/datasets/infrastru...</td>\n",
       "      <td>46.639895, -1.405955</td>\n",
       "      <td>52</td>\n",
       "      <td>85</td>\n",
       "      <td>248500589</td>\n",
       "      <td>CA La Roche-sur-Yon Agglomération</td>\n",
       "      <td>La Roche-sur-Yon</td>\n",
       "      <td>PAYS DE LA LOIRE</td>\n",
       "      <td>VENDEE</td>\n",
       "    </tr>\n",
       "    <tr>\n",
       "      <th>9</th>\n",
       "      <td>CI2C Revel</td>\n",
       "      <td>BOUYGUES ENERGIES ET SERVICES</td>\n",
       "      <td>FRG58P31451001</td>\n",
       "      <td>CI2C REVEL - Rue Clémence Isaure</td>\n",
       "      <td>Rue Clémence Isaure 31250 CI2C REVEL</td>\n",
       "      <td>31451</td>\n",
       "      <td>6</td>\n",
       "      <td>18.0</td>\n",
       "      <td>EF-T2</td>\n",
       "      <td>payant</td>\n",
       "      <td>...</td>\n",
       "      <td>2021-09-04</td>\n",
       "      <td>https://www.data.gouv.fr/fr/datasets/infrastru...</td>\n",
       "      <td>43.451953, 1.992839</td>\n",
       "      <td>76</td>\n",
       "      <td>31</td>\n",
       "      <td>243100567</td>\n",
       "      <td>CC Lauragais Revel Sorezois</td>\n",
       "      <td>Revel</td>\n",
       "      <td>OCCITANIE</td>\n",
       "      <td>HAUTE GARONNE</td>\n",
       "    </tr>\n",
       "  </tbody>\n",
       "</table>\n",
       "<p>10 rows × 22 columns</p>\n",
       "</div>"
      ],
      "text/plain": [
       "                   amenageur                      operateur  \\\n",
       "0                       CASA                       Sodetrel   \n",
       "1                       CASA                       Sodetrel   \n",
       "2                 CATP Tours               BORNES SOLUTIONS   \n",
       "3  CC VITRY CHAMPAGNE ET DER  BOUYGUES ENERGIES ET SERVICES   \n",
       "4                       CCPA  BOUYGUES ENERGIES ET SERVICES   \n",
       "5                      CCVBA  BOUYGUES ENERGIES ET SERVICES   \n",
       "6   CEETRUS Roncq3 Pizza Paï                        DRIVECO   \n",
       "7         CHAUSSON MATERIAUX  BOUYGUES ENERGIES ET SERVICES   \n",
       "8         CHAUSSON MATERIAUX  BOUYGUES ENERGIES ET SERVICES   \n",
       "9                 CI2C Revel  BOUYGUES ENERGIES ET SERVICES   \n",
       "\n",
       "            id_station                                     nom_station  \\\n",
       "0          FRA16PWIIZ5                         Vallauris Parking Stade   \n",
       "1         FRA16PWIIZ59          Roquefort-les-Pins Parking Intermarché   \n",
       "2       FRBSPP37000001                 Crédit Agricole Touraine Poitou   \n",
       "3       FRA51P51649004           VITRY LE FRANCOIS - Place De La Halle   \n",
       "4       FRA15P01244001                      MEXIMIEUX - Rue Des Stades   \n",
       "5       FRABAP13034001           EYGALIERES - Parking Avenue Leon Blum   \n",
       "6  FRSSDPCEETRUS596564                        CEETRUS Roncq3 Pizza Paï   \n",
       "7       FRG52P93005001          AULNAY SOUS BOIS - RUE HENRI BECQUEREL   \n",
       "8       FRG52P85191001  LA ROCHE SUR YON - Rue Pierre Gilles De Gennes   \n",
       "9       FRG58P31451001                CI2C REVEL - Rue Clémence Isaure   \n",
       "\n",
       "                                             adresse code_insee  \\\n",
       "0                              Avenue Jérome Massier      06155   \n",
       "1                           Chemin de la Basse Ferme      06105   \n",
       "2                     45 Boulevard Winston Churchill      37261   \n",
       "3          Place De La Halle 51300 VITRY LE FRANCOIS      51649   \n",
       "4                     Rue des stades 01800 MEXIMIEUX      01244   \n",
       "5          Parking Avenue Leon Blum 13810 EYGALIERES      13034   \n",
       "6             Rue du Ventoux 59650 Villeneuve-d'Ascq      59009   \n",
       "7         RUE HENRI BECQUEREL 93600 AULNAY SOUS BOIS      93005   \n",
       "8  Rue Pierre Gilles De Gennes 85000 LA ROCHE SUR...      85191   \n",
       "9               Rue Clémence Isaure 31250 CI2C REVEL      31451   \n",
       "\n",
       "   nombre_points_de_charge  puissance type_de_prise condition_acces  ...  \\\n",
       "0                        2       22.0        E/F-T2          payant  ...   \n",
       "1                        2       22.0        E/F-T2          payant  ...   \n",
       "2                        1       22.0        T2-E/F         Gratuit  ...   \n",
       "3                        2       22.0         T2-EF          payant  ...   \n",
       "4                        4       22.0         T2-EF          payant  ...   \n",
       "5                        2       22.0         T2-EF          payant  ...   \n",
       "6                        4       22.0            T2         Gratuit  ...   \n",
       "7                        2       22.0         EF-T2          payant  ...   \n",
       "8                        2       22.0         EF-T2          payant  ...   \n",
       "9                        6       18.0         EF-T2          payant  ...   \n",
       "\n",
       "  date_mise_a_jour                                             source  \\\n",
       "0       2018-10-05  https://www.data.gouv.fr/fr/datasets/infrastru...   \n",
       "1       2018-10-05  https://www.data.gouv.fr/fr/datasets/infrastru...   \n",
       "2       2020-12-07  https://www.data.gouv.fr/fr/datasets/infrastru...   \n",
       "3       2021-09-04  https://www.data.gouv.fr/fr/datasets/infrastru...   \n",
       "4       2021-09-04  https://www.data.gouv.fr/fr/datasets/infrastru...   \n",
       "5       2021-09-04  https://www.data.gouv.fr/fr/datasets/infrastru...   \n",
       "6       2021-03-03  https://www.data.gouv.fr/fr/datasets/liste-des...   \n",
       "7       2021-09-04  https://www.data.gouv.fr/fr/datasets/infrastru...   \n",
       "8       2021-09-04  https://www.data.gouv.fr/fr/datasets/infrastru...   \n",
       "9       2021-09-04  https://www.data.gouv.fr/fr/datasets/infrastru...   \n",
       "\n",
       "                coordonnees code_officiel_region code_officiel_departement  \\\n",
       "0       43.575956, 7.053818                   93                         6   \n",
       "1       43.667913, 7.043412                   93                         6   \n",
       "2  47.37425458, 0.681704879                   24                        37   \n",
       "3       48.727635, 4.584531                   44                        51   \n",
       "4       45.900445, 5.192075                   84                         1   \n",
       "5        43.761237, 4.94716                   93                        13   \n",
       "6        50.618301, 3.12961                   32                        59   \n",
       "7           48.947414, 2.48                   11                        93   \n",
       "8      46.639895, -1.405955                   52                        85   \n",
       "9       43.451953, 1.992839                   76                        31   \n",
       "\n",
       "   code_epci                           nom_de_epci         nom_commune  \\\n",
       "0  240600585                CA de Sophia Antipolis           Vallauris   \n",
       "1  240600585                CA de Sophia Antipolis  Roquefort-les-Pins   \n",
       "2  243700754          Tours Métropole Val de Loire               Tours   \n",
       "3  200034718          CC de Vitry,Champagne et Der   Vitry-le-François   \n",
       "4  240100883              CC de la Plaine de l'Ain           Meximieux   \n",
       "5  241300375  CC Vallée des Baux-Alpilles (CC VBA)          Eygalières   \n",
       "6  200093201         Métropole Européenne de Lille   Villeneuve-d'Ascq   \n",
       "7  200054781              Métropole du Grand Paris    Aulnay-sous-Bois   \n",
       "8  248500589     CA La Roche-sur-Yon Agglomération    La Roche-sur-Yon   \n",
       "9  243100567           CC Lauragais Revel Sorezois               Revel   \n",
       "\n",
       "                   nom_region    nom_departement  \n",
       "0  PROVENCE ALPES COTE D AZUR    ALPES MARITIMES  \n",
       "1  PROVENCE ALPES COTE D AZUR    ALPES MARITIMES  \n",
       "2         CENTRE VAL DE LOIRE     INDRE ET LOIRE  \n",
       "3                   GRAND EST              MARNE  \n",
       "4        AUVERGNE RHONE ALPES                AIN  \n",
       "5  PROVENCE ALPES COTE D AZUR   BOUCHES DU RHONE  \n",
       "6             HAUTS DE FRANCE               NORD  \n",
       "7               ILE DE FRANCE  SEINE SAINT DENIS  \n",
       "8            PAYS DE LA LOIRE             VENDEE  \n",
       "9                   OCCITANIE      HAUTE GARONNE  \n",
       "\n",
       "[10 rows x 22 columns]"
      ]
     },
     "execution_count": 189,
     "metadata": {},
     "output_type": "execute_result"
    }
   ],
   "source": [
    "df.head(10)"
   ]
  },
  {
   "cell_type": "code",
   "execution_count": 141,
   "id": "98fd673f-49af-49b4-aa63-7e346a75d4dd",
   "metadata": {
    "tags": []
   },
   "outputs": [],
   "source": [
    "#df.to_csv('charging_points_per_region_detail.csv', index=False)"
   ]
  },
  {
   "cell_type": "code",
   "execution_count": 188,
   "id": "5bb95151-e044-4ed5-b6e0-a730727d9f42",
   "metadata": {
    "tags": []
   },
   "outputs": [
    {
     "name": "stderr",
     "output_type": "stream",
     "text": [
      "100%|██████████| 1/1 [00:00<00:00, 7244.05it/s]\n"
     ]
    }
   ],
   "source": [
    "from google.cloud import bigquery\n",
    "\n",
    "df.to_gbq(\"hilda.charging_points_per_region_detail\", project_id='da-bootcamp-2023', if_exists='replace')"
   ]
  },
  {
   "cell_type": "code",
   "execution_count": null,
   "id": "ca236764-7429-40b2-9a52-e500067b7236",
   "metadata": {
    "tags": []
   },
   "outputs": [],
   "source": [
    "!pip install google-cloud-bigquery pandas-gbq --upgrade"
   ]
  },
  {
   "cell_type": "code",
   "execution_count": null,
   "id": "db99f87e-e36f-4b71-906a-6990059bef64",
   "metadata": {},
   "outputs": [],
   "source": []
  }
 ],
 "metadata": {
  "kernelspec": {
   "display_name": "Python 3 (ipykernel)",
   "language": "python",
   "name": "python3"
  },
  "language_info": {
   "codemirror_mode": {
    "name": "ipython",
    "version": 3
   },
   "file_extension": ".py",
   "mimetype": "text/x-python",
   "name": "python",
   "nbconvert_exporter": "python",
   "pygments_lexer": "ipython3",
   "version": "3.11.4"
  }
 },
 "nbformat": 4,
 "nbformat_minor": 5
}
